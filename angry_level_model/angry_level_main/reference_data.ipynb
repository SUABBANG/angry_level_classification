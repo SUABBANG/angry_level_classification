{
 "cells": [
  {
   "cell_type": "code",
   "execution_count": 17,
   "id": "1defb1b1",
   "metadata": {},
   "outputs": [],
   "source": [
    "# from datasets import Dataset\n",
    "# Dataset.cleanup_cache_files"
   ]
  },
  {
   "cell_type": "code",
   "execution_count": null,
   "id": "d7e1d72e-5241-470e-82a8-13b02dead7d8",
   "metadata": {},
   "outputs": [],
   "source": []
  },
  {
   "cell_type": "code",
   "execution_count": 33,
   "id": "1986d0d3-56ba-4d27-b173-437afbeffb9d",
   "metadata": {},
   "outputs": [],
   "source": [
    "from datasets import load_dataset, Audio\n",
    "\n",
    "minds = load_dataset(\"PolyAI/minds14\", name=\"en-US\", split=\"train\")"
   ]
  },
  {
   "cell_type": "code",
   "execution_count": 34,
   "id": "19109863-ed83-416e-97f8-72146865c814",
   "metadata": {},
   "outputs": [],
   "source": [
    "minds = minds.train_test_split(test_size=0.2)"
   ]
  },
  {
   "cell_type": "code",
   "execution_count": 35,
   "id": "cdfcc269-2b9b-49f0-9cf3-250bb7228e23",
   "metadata": {},
   "outputs": [
    {
     "data": {
      "text/plain": [
       "DatasetDict({\n",
       "    train: Dataset({\n",
       "        features: ['path', 'audio', 'transcription', 'english_transcription', 'intent_class', 'lang_id'],\n",
       "        num_rows: 450\n",
       "    })\n",
       "    test: Dataset({\n",
       "        features: ['path', 'audio', 'transcription', 'english_transcription', 'intent_class', 'lang_id'],\n",
       "        num_rows: 113\n",
       "    })\n",
       "})"
      ]
     },
     "execution_count": 35,
     "metadata": {},
     "output_type": "execute_result"
    }
   ],
   "source": [
    "minds"
   ]
  },
  {
   "cell_type": "code",
   "execution_count": 36,
   "id": "63ea8400-2f09-4a5b-bfe6-e6684c0d83e4",
   "metadata": {},
   "outputs": [],
   "source": [
    "minds = minds.remove_columns([\"path\", \"transcription\", \"english_transcription\", \"lang_id\"])"
   ]
  },
  {
   "cell_type": "code",
   "execution_count": 37,
   "id": "ecd1c4f9-911b-4878-8dfb-1db43b764ce2",
   "metadata": {},
   "outputs": [
    {
     "data": {
      "text/plain": [
       "{'audio': {'path': '/home/indj/.cache/huggingface/datasets/downloads/extracted/6b30227cfe62770c1c326146bc79ba62cf304239a73e9768f0ce16ba9f90d96b/en-US~JOINT_ACCOUNT/602bae1f963e11ccd901cdf2.wav',\n",
       "  'array': array([0.        , 0.00024414, 0.        , ..., 0.00073242, 0.00048828,\n",
       "         0.00048828]),\n",
       "  'sampling_rate': 8000},\n",
       " 'intent_class': 11}"
      ]
     },
     "execution_count": 37,
     "metadata": {},
     "output_type": "execute_result"
    }
   ],
   "source": [
    "minds[\"train\"][0]"
   ]
  },
  {
   "cell_type": "code",
   "execution_count": 38,
   "id": "4c18c95d-9248-436e-bdb9-78cd067fce88",
   "metadata": {},
   "outputs": [],
   "source": [
    "labels = minds[\"train\"].features[\"intent_class\"].names\n",
    "label2id, id2label = dict(), dict()\n",
    "for i, label in enumerate(labels):\n",
    "    label2id[label] = str(i)\n",
    "    id2label[str(i)] = label"
   ]
  },
  {
   "cell_type": "code",
   "execution_count": 39,
   "id": "a2bf49dc-41fd-41de-aa42-610698c89bf0",
   "metadata": {},
   "outputs": [
    {
     "name": "stderr",
     "output_type": "stream",
     "text": [
      "/home/indj/anaconda3/envs/voice/lib/python3.8/site-packages/transformers/configuration_utils.py:380: UserWarning: Passing `gradient_checkpointing` to a config initialization is deprecated and will be removed in v5 Transformers. Using `model.gradient_checkpointing_enable()` instead, or if you are using the `Trainer` API, pass `gradient_checkpointing=True` in your `TrainingArguments`.\n",
      "  warnings.warn(\n"
     ]
    }
   ],
   "source": [
    "from transformers import AutoFeatureExtractor\n",
    "\n",
    "feature_extractor = AutoFeatureExtractor.from_pretrained(\"facebook/wav2vec2-base\")"
   ]
  },
  {
   "cell_type": "code",
   "execution_count": 41,
   "id": "6a32e0e3-dd19-47ea-aa36-d0b08c3ad862",
   "metadata": {},
   "outputs": [],
   "source": [
    "minds = minds.cast_column(\"audio\", Audio(sampling_rate=16_000))"
   ]
  },
  {
   "cell_type": "code",
   "execution_count": 42,
   "id": "c08d4273-26b7-4294-ab8e-ccd03f484bd4",
   "metadata": {},
   "outputs": [
    {
     "data": {
      "text/plain": [
       "{'audio': {'path': '/home/indj/.cache/huggingface/datasets/downloads/extracted/6b30227cfe62770c1c326146bc79ba62cf304239a73e9768f0ce16ba9f90d96b/en-US~JOINT_ACCOUNT/602bae1f963e11ccd901cdf2.wav',\n",
       "  'array': array([7.60145485e-06, 1.58090144e-04, 2.37129629e-04, ...,\n",
       "         5.55960403e-04, 4.78379021e-04, 2.38412162e-04]),\n",
       "  'sampling_rate': 16000},\n",
       " 'intent_class': 11}"
      ]
     },
     "execution_count": 42,
     "metadata": {},
     "output_type": "execute_result"
    }
   ],
   "source": [
    "minds[\"train\"][0]"
   ]
  },
  {
   "cell_type": "code",
   "execution_count": 44,
   "id": "50138683-48fa-41ce-9be2-e81c022d3d36",
   "metadata": {},
   "outputs": [
    {
     "data": {
      "text/plain": [
       "numpy.ndarray"
      ]
     },
     "execution_count": 44,
     "metadata": {},
     "output_type": "execute_result"
    }
   ],
   "source": [
    "type(minds[\"train\"][0]['audio']['array'])"
   ]
  }
 ],
 "metadata": {
  "kernelspec": {
   "display_name": "Python 3 (ipykernel)",
   "language": "python",
   "name": "python3"
  },
  "language_info": {
   "codemirror_mode": {
    "name": "ipython",
    "version": 3
   },
   "file_extension": ".py",
   "mimetype": "text/x-python",
   "name": "python",
   "nbconvert_exporter": "python",
   "pygments_lexer": "ipython3",
   "version": "3.8.18"
  }
 },
 "nbformat": 4,
 "nbformat_minor": 5
}
